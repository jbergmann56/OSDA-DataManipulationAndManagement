{
 "cells": [
  {
   "cell_type": "code",
   "execution_count": 5,
   "metadata": {},
   "outputs": [
    {
     "ename": "ModuleNotFoundError",
     "evalue": "No module named 'sklearn.externals.joblib'",
     "output_type": "error",
     "traceback": [
      "\u001b[1;31m---------------------------------------------------------------------------\u001b[0m",
      "\u001b[1;31mModuleNotFoundError\u001b[0m                       Traceback (most recent call last)",
      "\u001b[1;32m<ipython-input-5-9f24b7e8fb5c>\u001b[0m in \u001b[0;36m<module>\u001b[1;34m\u001b[0m\n\u001b[0;32m      4\u001b[0m \u001b[1;32mimport\u001b[0m \u001b[0mnumpy\u001b[0m\u001b[1;33m\u001b[0m\u001b[1;33m\u001b[0m\u001b[0m\n\u001b[0;32m      5\u001b[0m \u001b[1;31m#import infer_schema, data_summary, data_compare, data_consist data quality libraries\u001b[0m\u001b[1;33m\u001b[0m\u001b[1;33m\u001b[0m\u001b[1;33m\u001b[0m\u001b[0m\n\u001b[1;32m----> 6\u001b[1;33m \u001b[1;32mfrom\u001b[0m \u001b[0mpydqc\u001b[0m \u001b[1;32mimport\u001b[0m \u001b[0minfer_schema\u001b[0m\u001b[1;33m,\u001b[0m \u001b[0mdata_summary\u001b[0m\u001b[1;33m,\u001b[0m \u001b[0mdata_compare\u001b[0m\u001b[1;33m,\u001b[0m \u001b[0mdata_consist\u001b[0m\u001b[1;33m\u001b[0m\u001b[1;33m\u001b[0m\u001b[0m\n\u001b[0m",
      "\u001b[1;32m~\\OneDrive - Paradigm Oral Surgery\\Documents\\GitHub\\OSDA-DataManipulationAndManagement\\Examples\\Data Quality\\pydqc\\infer_schema.py\u001b[0m in \u001b[0;36m<module>\u001b[1;34m\u001b[0m\n\u001b[0;32m      9\u001b[0m \u001b[1;32mfrom\u001b[0m \u001b[0mopenpyxl\u001b[0m\u001b[1;33m.\u001b[0m\u001b[0mworksheet\u001b[0m\u001b[1;33m.\u001b[0m\u001b[0mdatavalidation\u001b[0m \u001b[1;32mimport\u001b[0m \u001b[0mDataValidation\u001b[0m\u001b[1;33m\u001b[0m\u001b[1;33m\u001b[0m\u001b[0m\n\u001b[0;32m     10\u001b[0m \u001b[1;33m\u001b[0m\u001b[0m\n\u001b[1;32m---> 11\u001b[1;33m \u001b[1;32mfrom\u001b[0m \u001b[0msklearn\u001b[0m\u001b[1;33m.\u001b[0m\u001b[0mexternals\u001b[0m\u001b[1;33m.\u001b[0m\u001b[0mjoblib\u001b[0m \u001b[1;32mimport\u001b[0m \u001b[0mParallel\u001b[0m\u001b[1;33m,\u001b[0m \u001b[0mdelayed\u001b[0m\u001b[1;33m\u001b[0m\u001b[1;33m\u001b[0m\u001b[0m\n\u001b[0m\u001b[0;32m     12\u001b[0m \u001b[1;32mimport\u001b[0m \u001b[0mxlsxwriter\u001b[0m\u001b[1;33m\u001b[0m\u001b[1;33m\u001b[0m\u001b[0m\n\u001b[0;32m     13\u001b[0m \u001b[1;33m\u001b[0m\u001b[0m\n",
      "\u001b[1;31mModuleNotFoundError\u001b[0m: No module named 'sklearn.externals.joblib'"
     ]
    }
   ],
   "source": [
    "#example:  https://github.com/SauceCat/pydqc/blob/master/test/pydqc_test_on_Zillow.ipynb\n",
    "#Import Pandas & numpy library\n",
    "import pandas as pd\n",
    "import numpy\n",
    "#import infer_schema, data_summary, data_compare, data_consist data quality libraries\n",
    "from pydqc import infer_schema, data_summary, data_compare, data_consist "
   ]
  },
  {
   "cell_type": "code",
   "execution_count": 2,
   "metadata": {},
   "outputs": [
    {
     "name": "stdout",
     "output_type": "stream",
     "text": [
      "(8287, 15)\n"
     ]
    }
   ],
   "source": [
    "#Load Dataset, then explore Rows/Columns in a Pandas DataFrame\n",
    "df = pd.read_csv('Datasets/BL-Flickr-Images-Book.csv')\n",
    "df.head() #explore dataframe column contents\n",
    "print(df.shape)"
   ]
  },
  {
   "cell_type": "code",
   "execution_count": 4,
   "metadata": {},
   "outputs": [
    {
     "ename": "NameError",
     "evalue": "name 'infer_schema' is not defined",
     "output_type": "error",
     "traceback": [
      "\u001b[1;31m---------------------------------------------------------------------------\u001b[0m",
      "\u001b[1;31mNameError\u001b[0m                                 Traceback (most recent call last)",
      "\u001b[1;32m<ipython-input-4-6947847dcc9d>\u001b[0m in \u001b[0;36m<module>\u001b[1;34m\u001b[0m\n\u001b[0;32m      1\u001b[0m \u001b[1;31m#infer schema based on full set of data\u001b[0m\u001b[1;33m\u001b[0m\u001b[1;33m\u001b[0m\u001b[1;33m\u001b[0m\u001b[0m\n\u001b[1;32m----> 2\u001b[1;33m infer_schema.infer_schema(data=data_2016, fname='properties_2016', output_root='output/', \n\u001b[0m\u001b[0;32m      3\u001b[0m                           sample_size=1.0, type_threshold=0.5, n_jobs=2, base_schema=None)\n",
      "\u001b[1;31mNameError\u001b[0m: name 'infer_schema' is not defined"
     ]
    }
   ],
   "source": [
    "#infer schema based on full set of data\n",
    "infer_schema.infer_schema(data=data_2016, fname='properties_2016', output_root='output/', \n",
    "                          sample_size=1.0, type_threshold=0.5, n_jobs=2, base_schema=None)"
   ]
  },
  {
   "cell_type": "code",
   "execution_count": null,
   "metadata": {},
   "outputs": [],
   "source": [
    "#infer schema based on base_schema\n",
    "#Since we have already generated data schema for data_2016, we can use the modified data schema of \n",
    "#data to infer the schema for data.\n",
    "                                               pub.str.replace('-', ' ')))"
   ]
  },
  {
   "cell_type": "code",
   "execution_count": null,
   "metadata": {},
   "outputs": [],
   "source": [
    "#Cleaning the Entire Dataset Using the applymap Function\n",
    "# DataFrame. Pandas .applymap() method is similar to the in-built map() function and \n",
    "#simply applies a function to all the elements in a DataFrame.\n",
    "def get_citystate(item):\n",
    "     if ' (' in item:\n",
    "         return item[:item.find(' (')]\n",
    "     elif '[' in item:\n",
    "         return item[:item.find('[')]\n",
    "     else:\n",
    "         return item\n",
    "    \n",
    "towns_df =  towns_df.applymap(get_citystate)"
   ]
  },
  {
   "cell_type": "code",
   "execution_count": null,
   "metadata": {},
   "outputs": [],
   "source": [
    "#Renaming Columns and Skipping Rows\n",
    "#skipping rows upon import\n",
    "olympics_df = pd.read_csv('Datasets/olympics.csv', header=1) #header starts on row 1 of file\n",
    "olympics_df.head()"
   ]
  }
 ],
 "metadata": {
  "kernelspec": {
   "display_name": "Python 3",
   "language": "python",
   "name": "python3"
  },
  "language_info": {
   "codemirror_mode": {
    "name": "ipython",
    "version": 3
   },
   "file_extension": ".py",
   "mimetype": "text/x-python",
   "name": "python",
   "nbconvert_exporter": "python",
   "pygments_lexer": "ipython3",
   "version": "3.8.8"
  }
 },
 "nbformat": 4,
 "nbformat_minor": 2
}
