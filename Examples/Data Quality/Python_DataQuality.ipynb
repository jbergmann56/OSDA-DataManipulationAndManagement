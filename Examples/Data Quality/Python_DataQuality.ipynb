{
 "cells": [
  {
   "cell_type": "code",
   "execution_count": null,
   "metadata": {},
   "outputs": [],
   "source": [
    "#example:  https://github.com/SauceCat/pydqc/blob/master/test/pydqc_test_on_Zillow.ipynb\n",
    "#Import Pandas & numpy library\n",
    "import pandas as pd\n",
    "import numpy\n",
    "#import infer_schema, data_summary, data_compare, data_consist data quality libraries\n",
    "from pydqc import infer_schema, data_summary, data_compare, data_consist "
   ]
  },
  {
   "cell_type": "code",
   "execution_count": null,
   "metadata": {},
   "outputs": [],
   "source": [
    "#Load Dataset, then explore Rows/Columns in a Pandas DataFrame\n",
    "df = pd.read_csv('Datasets/BL-Flickr-Images-Book.csv')\n",
    "df.head() #explore dataframe column contents\n",
    "print(df.shape)"
   ]
  },
  {
   "cell_type": "code",
   "execution_count": null,
   "metadata": {},
   "outputs": [],
   "source": [
    "#infer schema based on full set of data\n",
    "infer_schema.infer_schema(data=data_2016, fname='properties_2016', output_root='output/', \n",
    "                          sample_size=1.0, type_threshold=0.5, n_jobs=2, base_schema=None)"
   ]
  },
  {
   "cell_type": "code",
   "execution_count": null,
   "metadata": {},
   "outputs": [],
   "source": [
    "#infer schema based on base_schema\n",
    "#Since we have already generated data schema for data_2016, we can use the modified data schema of \n",
    "#data to infer the schema for data.\n",
    "                                               pub.str.replace('-', ' ')))"
   ]
  },
  {
   "cell_type": "code",
   "execution_count": null,
   "metadata": {},
   "outputs": [],
   "source": [
    "#Cleaning the Entire Dataset Using the applymap Function\n",
    "# DataFrame. Pandas .applymap() method is similar to the in-built map() function and \n",
    "#simply applies a function to all the elements in a DataFrame.\n",
    "def get_citystate(item):\n",
    "     if ' (' in item:\n",
    "         return item[:item.find(' (')]\n",
    "     elif '[' in item:\n",
    "         return item[:item.find('[')]\n",
    "     else:\n",
    "         return item\n",
    "    \n",
    "towns_df =  towns_df.applymap(get_citystate)"
   ]
  },
  {
   "cell_type": "code",
   "execution_count": null,
   "metadata": {},
   "outputs": [],
   "source": [
    "#Renaming Columns and Skipping Rows\n",
    "#skipping rows upon import\n",
    "olympics_df = pd.read_csv('Datasets/olympics.csv', header=1) #header starts on row 1 of file\n",
    "olympics_df.head()"
   ]
  }
 ],
 "metadata": {
  "kernelspec": {
   "display_name": "Python 3",
   "language": "python",
   "name": "python3"
  },
  "language_info": {
   "codemirror_mode": {
    "name": "ipython",
    "version": 3
   },
   "file_extension": ".py",
   "mimetype": "text/x-python",
   "name": "python",
   "nbconvert_exporter": "python",
   "pygments_lexer": "ipython3",
   "version": "3.7.1"
  }
 },
 "nbformat": 4,
 "nbformat_minor": 2
}
